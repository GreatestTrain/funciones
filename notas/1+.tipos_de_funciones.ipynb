{
 "cells": [
  {
   "cell_type": "markdown",
   "metadata": {},
   "source": [
    "## Tipos de Variables\n",
    "---------------------"
   ]
  },
  {
   "cell_type": "markdown",
   "metadata": {},
   "source": [
    "+ Cualitativas\n",
    "\n",
    "    + Nominales: Son categóricas pero no son ordenables.\n",
    "    + Ordinales: Pueden ser ordenadas.\n",
    "    + Binarias: Solo toman 2 valores."
   ]
  },
  {
   "cell_type": "markdown",
   "metadata": {},
   "source": [
    "+ Cuantitativas\n",
    "\n",
    "    - Discretas: No hay valores medios entre dos enteros.\n",
    "    - Continuas: Si tienen valores medios (o reales) entre 2 enteros."
   ]
  }
 ],
 "metadata": {
  "language_info": {
   "name": "python"
  },
  "orig_nbformat": 4
 },
 "nbformat": 4,
 "nbformat_minor": 2
}
